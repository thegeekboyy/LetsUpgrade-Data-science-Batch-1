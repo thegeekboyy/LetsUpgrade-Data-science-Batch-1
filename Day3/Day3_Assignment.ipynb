{
 "cells": [
  {
   "cell_type": "markdown",
   "metadata": {},
   "source": [
    "# Day 3 Assignment"
   ]
  },
  {
   "cell_type": "markdown",
   "metadata": {},
   "source": [
    "# Question 1: Create a numpy array starting from 2 till 50 with a stepsize of 3."
   ]
  },
  {
   "cell_type": "code",
   "execution_count": 2,
   "metadata": {},
   "outputs": [
    {
     "name": "stdout",
     "output_type": "stream",
     "text": [
      "[ 2  5  8 11 14 17 20 23 26 29 32 35 38 41 44 47 50]\n"
     ]
    }
   ],
   "source": [
    "import numpy as np\n",
    "arr=np.arange(51)[2:51:3]\n",
    "print(arr)"
   ]
  },
  {
   "cell_type": "markdown",
   "metadata": {},
   "source": [
    "# Question 2:   Accept two lists of 5 elements each from the user Convert them to numpy arrays. Concatenate these arrays and print it. Also sort these arrays and print it."
   ]
  },
  {
   "cell_type": "code",
   "execution_count": 15,
   "metadata": {},
   "outputs": [
    {
     "name": "stdout",
     "output_type": "stream",
     "text": [
      "Enter the elements of list1: \n",
      "5\n",
      "1\n",
      "3\n",
      "4\n",
      "2\n",
      "Enter the elements of list2: \n",
      "7\n",
      "0\n",
      "8\n",
      "9\n",
      "6\n",
      "The two lists entered are: \n",
      "[5, 1, 3, 4, 2]\n",
      "[7, 0, 8, 9, 6]\n",
      "The np arrays are:  \n",
      "[5 1 3 4 2]\n",
      "[7 0 8 9 6]\n",
      "Concatenated two np arrays\n",
      "[5 1 3 4 2 7 0 8 9 6]\n",
      "After sorting :\n",
      "[0 1 2 3 4 5 6 7 8 9]\n"
     ]
    }
   ],
   "source": [
    "import numpy as np\n",
    "list1=[]\n",
    "list2=[]\n",
    "\n",
    "print(\"Enter the elements of list1: \")\n",
    "\n",
    "for i in range(0,5):                      #inputting elements of list1\n",
    "    list1.append(int(input()))\n",
    "    \n",
    "print(\"Enter the elements of list2: \")    #inputting elements of list2  \n",
    "for j in range(0,5):\n",
    "    list2.append(int(input()))\n",
    "\n",
    "print(\"The two lists entered are: \")\n",
    "print(list1)\n",
    "print(list2)                               #printing list1 and list2\n",
    "\n",
    "arr1 = np.array(list1)                  \n",
    "arr2 = np.array(list2)                     #converting list1 and list2 into np arrays\n",
    "\n",
    "print(\"The np arrays are:  \")\n",
    "print(arr1)\n",
    "print(arr2)                                 #printing the np arrays\n",
    "\n",
    "print(\"Concatenated two np arrays\")\n",
    "arr3 = np.append(arr1,arr2,axis=0)\n",
    "print(arr3)\n",
    "\n",
    "print(\"After sorting :\")\n",
    "print(np.sort(arr3))\n",
    "\n"
   ]
  },
  {
   "cell_type": "markdown",
   "metadata": {},
   "source": [
    "# Question 3:  Write a code snippet to find the dimensions of a ndarray and its size."
   ]
  },
  {
   "cell_type": "code",
   "execution_count": 22,
   "metadata": {},
   "outputs": [
    {
     "name": "stdout",
     "output_type": "stream",
     "text": [
      "1D array \n",
      "[0 1 2 3 4 5 6 7 8 9]\n",
      "The dimension is 1\n",
      "The size of the array is:  10\n",
      "\n",
      " 2D array\n",
      "[[ 0  1  2  3]\n",
      " [ 4  5  6  7]\n",
      " [ 8  9 10 11]]\n",
      "The dimension is 2\n",
      "The size of the array is:  12\n"
     ]
    }
   ],
   "source": [
    "import numpy as np\n",
    "print(\"1D array \")\n",
    "a1d = np.arange(10)\n",
    "print(a1d)\n",
    "print(\"The dimension is\",a1d.ndim)\n",
    "print(\"The size of the array is: \",a1d.size)\n",
    "\n",
    "print(\"\\n 2D array\")\n",
    "a2d = np.arange(12).reshape((3,4))\n",
    "print(a2d)\n",
    "print(\"The dimension is\",a2d.ndim)\n",
    "print(\"The size of the array is: \",a2d.size)\n"
   ]
  },
  {
   "cell_type": "markdown",
   "metadata": {},
   "source": [
    "# How to convert a 1D array into a 2D array? Demonstrate with the help of a code snippet# \n"
   ]
  },
  {
   "cell_type": "code",
   "execution_count": 26,
   "metadata": {},
   "outputs": [
    {
     "name": "stdout",
     "output_type": "stream",
     "text": [
      "1D array\n",
      "[ 0  1  2  3  4  5  6  7  8  9 10 11]\n",
      "Convering into 2D array\n",
      "[[ 0  1  2  3]\n",
      " [ 4  5  6  7]\n",
      " [ 8  9 10 11]]\n"
     ]
    }
   ],
   "source": [
    "import numpy as np\n",
    "arr1d = np.arange(12)\n",
    "print(\"1D array\")\n",
    "print(arr1d)\n",
    "\n",
    "print(\"Convering into 2D array\")\n",
    "print(arr1d.reshape(3,4))\n"
   ]
  },
  {
   "cell_type": "code",
   "execution_count": null,
   "metadata": {},
   "outputs": [],
   "source": []
  }
 ],
 "metadata": {
  "kernelspec": {
   "display_name": "Python 3",
   "language": "python",
   "name": "python3"
  },
  "language_info": {
   "codemirror_mode": {
    "name": "ipython",
    "version": 3
   },
   "file_extension": ".py",
   "mimetype": "text/x-python",
   "name": "python",
   "nbconvert_exporter": "python",
   "pygments_lexer": "ipython3",
   "version": "3.8.3"
  }
 },
 "nbformat": 4,
 "nbformat_minor": 4
}
