{
 "cells": [
  {
   "cell_type": "markdown",
   "metadata": {},
   "source": [
    "# Question 4\n"
   ]
  },
  {
   "cell_type": "code",
   "execution_count": 19,
   "metadata": {
    "scrolled": true
   },
   "outputs": [
    {
     "name": "stdout",
     "output_type": "stream",
     "text": [
      "Input number of commands: 4\n",
      "UP 5\n",
      "DOWN 3\n",
      "LEFT 3\n",
      "RIGHT 2\n",
      "2\n"
     ]
    }
   ],
   "source": [
    "# DEFINING THE ORIGIN\n",
    "position = {\"x\":0, \"y\":0}\n",
    "n= int(input(\"Input number of commands: \"))\n",
    "\n",
    "# RUNNING LOOP n TIMES TO GET DIRECTIONS INPUT\n",
    "for i in range(0,n):\n",
    "    mov= input().split(\" \")\n",
    "    \n",
    "    if mov[0] == \"UP\":\n",
    "        position[\"y\"] = position[\"y\"] + int(mov[1])\n",
    "    elif mov[0] == \"DOWN\":\n",
    "        position[\"y\"] = position[\"y\"]  - int(mov[1])\n",
    "    elif mov[0] == \"LEFT\":\n",
    "        position[\"x\"] = position[\"x\"] - int(mov[1])\n",
    "    elif mov[0] == \"RIGHT\":\n",
    "        position[\"x\"] = position[\"x\"] + int(mov[1])\n",
    "        \n",
    "X = position[\"x\"]\n",
    "Y = position[\"y\"]\n",
    "\n",
    "\n",
    "distance = int(pow((pow(X,2) + pow(Y,2)), 0.5))\n",
    "print(distance)"
   ]
  },
  {
   "cell_type": "code",
   "execution_count": null,
   "metadata": {},
   "outputs": [],
   "source": []
  }
 ],
 "metadata": {
  "kernelspec": {
   "display_name": "Python 3",
   "language": "python",
   "name": "python3"
  },
  "language_info": {
   "codemirror_mode": {
    "name": "ipython",
    "version": 3
   },
   "file_extension": ".py",
   "mimetype": "text/x-python",
   "name": "python",
   "nbconvert_exporter": "python",
   "pygments_lexer": "ipython3",
   "version": "3.8.3"
  }
 },
 "nbformat": 4,
 "nbformat_minor": 4
}
