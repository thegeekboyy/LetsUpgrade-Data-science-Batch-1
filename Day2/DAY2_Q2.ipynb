{
 "cells": [
  {
   "cell_type": "markdown",
   "metadata": {},
   "source": [
    "# List comprehension"
   ]
  },
  {
   "cell_type": "code",
   "execution_count": 1,
   "metadata": {},
   "outputs": [
    {
     "name": "stdout",
     "output_type": "stream",
     "text": [
      "[3, 9, 15, 21, 27, 6, 12, 18, 24, 30]\n"
     ]
    }
   ],
   "source": [
    "#trippling the elements of list and storing the resulting elements in the new list\n",
    "\n",
    "list1=[1,3,5,7,9,2,4,6,8,10]\n",
    "list2=[x*3 for x in list1]\n",
    "print(list2)"
   ]
  },
  {
   "cell_type": "code",
   "execution_count": 3,
   "metadata": {},
   "outputs": [
    {
     "name": "stdout",
     "output_type": "stream",
     "text": [
      "Enter the num15\n",
      "[1, 4, 9, 16, 25, 36, 49, 64, 81, 100, 121, 144, 169, 196, 225]\n"
     ]
    }
   ],
   "source": [
    "# creating a list having squares of elements ranging from 1 to number input by user\n",
    "\n",
    "num= int(input(\"Enter the num\"))\n",
    "list1=[x**2 for x in range(1,num+1)]\n",
    "print(list1)\n"
   ]
  },
  {
   "cell_type": "code",
   "execution_count": 8,
   "metadata": {},
   "outputs": [
    {
     "name": "stdout",
     "output_type": "stream",
     "text": [
      "[1, 3, 5, 7, 9, 11, 13, 15, 17, 19, 21, 23, 25]\n"
     ]
    }
   ],
   "source": [
    "# copying elements of list1 to list2 only if the element is odd\n",
    "list1=[1,2,3,4,5,6,7,8,9,10,11,12,13,14,15,16,17,18,19,20,21,22,23,24,25]\n",
    "list2=[x for x in list1 if(x%2!=0)]\n",
    "print(list2)\n"
   ]
  },
  {
   "cell_type": "code",
   "execution_count": 13,
   "metadata": {},
   "outputs": [
    {
     "name": "stdout",
     "output_type": "stream",
     "text": [
      "['The flash', 'The expanse', 'The green arrow']\n"
     ]
    }
   ],
   "source": [
    "# sorting the list elements starting with letter T into a new list\n",
    "shows = [\"The flash\",\"The expanse\",\"Money heist\",\"Bandish bandits\",\"Dark\",\"Agents of shield\",\"The green arrow\",\"Lost in space\",]\n",
    "brief=[x for x in shows if x.startswith(\"T\")]\n",
    "print(brief)\n"
   ]
  },
  {
   "cell_type": "code",
   "execution_count": 14,
   "metadata": {},
   "outputs": [
    {
     "name": "stdout",
     "output_type": "stream",
     "text": [
      "['THOR', 'captain america', 'IRON-MAN', 'black widow', 'BLACK-PANTHER', 'hulk', 'DOCTOR STRANGE', 'war machine', 'SPIDERMAN', 'hawkeye']\n"
     ]
    }
   ],
   "source": [
    "# copying the elements of a list into new list with swapped cases\n",
    "\n",
    "list1=[\"thor\",\"CAPTAIN AMERICA\",\"iron-man\",\"BLACK WIDOW\",\"black-panther\",\"HULK\",\"doctor strange\",\"WAR MACHINE\",\"spiderman\",\"HAWKEYE\"]\n",
    "list2=[x.swapcase() for x in list1]\n",
    "print(list2)"
   ]
  },
  {
   "cell_type": "code",
   "execution_count": null,
   "metadata": {},
   "outputs": [],
   "source": []
  }
 ],
 "metadata": {
  "kernelspec": {
   "display_name": "Python 3",
   "language": "python",
   "name": "python3"
  },
  "language_info": {
   "codemirror_mode": {
    "name": "ipython",
    "version": 3
   },
   "file_extension": ".py",
   "mimetype": "text/x-python",
   "name": "python",
   "nbconvert_exporter": "python",
   "pygments_lexer": "ipython3",
   "version": "3.8.3"
  }
 },
 "nbformat": 4,
 "nbformat_minor": 4
}
