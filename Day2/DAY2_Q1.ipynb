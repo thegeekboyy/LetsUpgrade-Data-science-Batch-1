{
 "cells": [
  {
   "cell_type": "markdown",
   "metadata": {},
   "source": [
    "# Create an empty list. Accept 10 numbers from users append the list only if it is an even number"
   ]
  },
  {
   "cell_type": "code",
   "execution_count": 1,
   "metadata": {
    "scrolled": true
   },
   "outputs": [
    {
     "name": "stdout",
     "output_type": "stream",
     "text": [
      "Input the 10 numbers\n",
      "12\n",
      "34\n",
      "56\n",
      "1\n",
      "2\n",
      "3\n",
      "4\n",
      "5\n",
      "6\n",
      "7\n",
      "The list is \n",
      " [12, 34, 56, 2, 4, 6]\n"
     ]
    }
   ],
   "source": [
    "list1=[]\n",
    "inp=0\n",
    "print(\"Input the 10 numbers\")\n",
    "for i in range(0,10):\n",
    "    inp=int(input())\n",
    "    if(inp%2==0):\n",
    "        list1.append(inp)\n",
    "\n",
    "print(\"The list is \\n\",list1)"
   ]
  },
  {
   "cell_type": "code",
   "execution_count": null,
   "metadata": {},
   "outputs": [],
   "source": []
  }
 ],
 "metadata": {
  "kernelspec": {
   "display_name": "Python 3",
   "language": "python",
   "name": "python3"
  },
  "language_info": {
   "codemirror_mode": {
    "name": "ipython",
    "version": 3
   },
   "file_extension": ".py",
   "mimetype": "text/x-python",
   "name": "python",
   "nbconvert_exporter": "python",
   "pygments_lexer": "ipython3",
   "version": "3.8.3"
  }
 },
 "nbformat": 4,
 "nbformat_minor": 4
}
